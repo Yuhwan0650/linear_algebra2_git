{
  "nbformat": 4,
  "nbformat_minor": 0,
  "metadata": {
    "colab": {
      "provenance": [],
      "authorship_tag": "ABX9TyPuo/VmvWIaN4xE8T0Au4bm",
      "include_colab_link": true
    },
    "kernelspec": {
      "name": "python3",
      "display_name": "Python 3"
    },
    "language_info": {
      "name": "python"
    }
  },
  "cells": [
    {
      "cell_type": "markdown",
      "metadata": {
        "id": "view-in-github",
        "colab_type": "text"
      },
      "source": [
        "<a href=\"https://colab.research.google.com/github/Yuhwan0650/linear_algebra2_git/blob/%EC%A0%84%EC%9C%A0%ED%99%98/%EC%8B%A4%EC%8A%B5%EA%B3%BC%EC%A0%9C4.ipynb\" target=\"_parent\"><img src=\"https://colab.research.google.com/assets/colab-badge.svg\" alt=\"Open In Colab\"/></a>"
      ]
    },
    {
      "cell_type": "markdown",
      "source": [
        "이동(Translation)-실습"
      ],
      "metadata": {
        "id": "MCAx_YCVfuWO"
      }
    },
    {
      "cell_type": "code",
      "execution_count": 7,
      "metadata": {
        "colab": {
          "base_uri": "https://localhost:8080/",
          "height": 219
        },
        "id": "1SjZcG8mfoBV",
        "outputId": "7a4bd943-e88e-4aac-c80a-1fd9c803ed00"
      },
      "outputs": [
        {
          "output_type": "error",
          "ename": "AttributeError",
          "evalue": "'NoneType' object has no attribute 'shape'",
          "traceback": [
            "\u001b[0;31m---------------------------------------------------------------------------\u001b[0m",
            "\u001b[0;31mAttributeError\u001b[0m                            Traceback (most recent call last)",
            "\u001b[0;32m<ipython-input-7-e05b3786aa46>\u001b[0m in \u001b[0;36m<cell line: 6>\u001b[0;34m()\u001b[0m\n\u001b[1;32m      4\u001b[0m \u001b[0mimg\u001b[0m\u001b[0;34m=\u001b[0m\u001b[0mcv2\u001b[0m\u001b[0;34m.\u001b[0m\u001b[0mimread\u001b[0m\u001b[0;34m(\u001b[0m\u001b[0;34m'C:/Users/USER/Desktop/sample.jpg'\u001b[0m\u001b[0;34m,\u001b[0m\u001b[0mcv2\u001b[0m\u001b[0;34m.\u001b[0m\u001b[0mIMREAD_COLOR\u001b[0m\u001b[0;34m)\u001b[0m\u001b[0;34m\u001b[0m\u001b[0;34m\u001b[0m\u001b[0m\n\u001b[1;32m      5\u001b[0m \u001b[0;34m\u001b[0m\u001b[0m\n\u001b[0;32m----> 6\u001b[0;31m \u001b[0mheight\u001b[0m\u001b[0;34m,\u001b[0m\u001b[0mwidth\u001b[0m\u001b[0;34m=\u001b[0m\u001b[0mimg\u001b[0m\u001b[0;34m.\u001b[0m\u001b[0mshape\u001b[0m\u001b[0;34m[\u001b[0m\u001b[0;34m:\u001b[0m\u001b[0;36m2\u001b[0m\u001b[0;34m]\u001b[0m\u001b[0;34m\u001b[0m\u001b[0;34m\u001b[0m\u001b[0m\n\u001b[0m\u001b[1;32m      7\u001b[0m \u001b[0;34m\u001b[0m\u001b[0m\n\u001b[1;32m      8\u001b[0m \u001b[0mM\u001b[0m\u001b[0;34m=\u001b[0m\u001b[0mnp\u001b[0m\u001b[0;34m.\u001b[0m\u001b[0marray\u001b[0m\u001b[0;34m(\u001b[0m\u001b[0;34m[\u001b[0m\u001b[0;34m[\u001b[0m\u001b[0;36m1\u001b[0m\u001b[0;34m,\u001b[0m\u001b[0;36m0\u001b[0m\u001b[0;34m,\u001b[0m\u001b[0;36m100\u001b[0m\u001b[0;34m]\u001b[0m\u001b[0;34m,\u001b[0m\u001b[0;34m[\u001b[0m\u001b[0;36m0\u001b[0m\u001b[0;34m,\u001b[0m\u001b[0;36m1\u001b[0m\u001b[0;34m,\u001b[0m\u001b[0;36m200\u001b[0m\u001b[0;34m]\u001b[0m\u001b[0;34m,\u001b[0m\u001b[0;34m[\u001b[0m\u001b[0;36m0\u001b[0m\u001b[0;34m,\u001b[0m\u001b[0;36m0\u001b[0m\u001b[0;34m,\u001b[0m\u001b[0;36m1\u001b[0m\u001b[0;34m]\u001b[0m\u001b[0;34m]\u001b[0m\u001b[0;34m,\u001b[0m\u001b[0mdtype\u001b[0m\u001b[0;34m=\u001b[0m\u001b[0mfloat\u001b[0m\u001b[0;34m)\u001b[0m\u001b[0;34m\u001b[0m\u001b[0;34m\u001b[0m\u001b[0m\n",
            "\u001b[0;31mAttributeError\u001b[0m: 'NoneType' object has no attribute 'shape'"
          ]
        }
      ],
      "source": [
        "import cv2\n",
        "import numpy as np\n",
        "\n",
        "img=cv2.imread('C:/Users/USER/Desktop/sample.jpg',cv2.IMREAD_COLOR)\n",
        "\n",
        "height,width=img.shape[:2]\n",
        "\n",
        "M=np.array([[1,0,100],[0,1,200],[0,0,1]],dtype=float)\n",
        "\n",
        "dst=np.zeros(img.shape, dtype=np.unit8)\n",
        "\n",
        "for y in range(height-1):\n",
        "  for x in range(width-1):\n",
        "    p=np.array([x,y,1])\n",
        "    p_np.dot(M,p)\n",
        "    x_,y_=p_[:2]\n",
        "    x_=int(x_)\n",
        "    y_=int(y_)\n",
        "\n",
        "    if x_>0 and x_<width and y_>0 and y_<height:\n",
        "      dst[y_,x_]=img[y,x]\n",
        "\n",
        "result=cv2.hconcat([img,dst])\n",
        "cv2.imshow(\"result\",result)\n",
        "cv2.waitkey(0)"
      ]
    },
    {
      "cell_type": "code",
      "source": [
        "import cv2\n",
        "import numpy as np\n",
        "\n",
        "img=cv2.imread(r\"C:\\Users\\USER\\Desktop\\sample.jpg\", cv2.IMREAD_COLOR)\n",
        "\n",
        "height,width=img.shape[:2]\n",
        "\n",
        "M=np.array([[1,0,100],[0,1,200]], dtype=float)\n",
        "\n",
        "dst=cv2.warpAffine(img,M,(width,height))\n",
        "result=cv2.hconcat([img,dst])\n",
        "cv2.imshow(\"result\",result)\n",
        "cv2.waitkey(0)"
      ],
      "metadata": {
        "colab": {
          "base_uri": "https://localhost:8080/",
          "height": 219
        },
        "id": "WniKM5u_iv-R",
        "outputId": "d45be9f7-dd9a-4cfa-8d49-6c78426287a8"
      },
      "execution_count": 9,
      "outputs": [
        {
          "output_type": "error",
          "ename": "AttributeError",
          "evalue": "'NoneType' object has no attribute 'shape'",
          "traceback": [
            "\u001b[0;31m---------------------------------------------------------------------------\u001b[0m",
            "\u001b[0;31mAttributeError\u001b[0m                            Traceback (most recent call last)",
            "\u001b[0;32m<ipython-input-9-8abf84c858b4>\u001b[0m in \u001b[0;36m<cell line: 6>\u001b[0;34m()\u001b[0m\n\u001b[1;32m      4\u001b[0m \u001b[0mimg\u001b[0m\u001b[0;34m=\u001b[0m\u001b[0mcv2\u001b[0m\u001b[0;34m.\u001b[0m\u001b[0mimread\u001b[0m\u001b[0;34m(\u001b[0m\u001b[0;34mr\"C:\\Users\\USER\\Desktop\\sample.jpg\"\u001b[0m\u001b[0;34m,\u001b[0m \u001b[0mcv2\u001b[0m\u001b[0;34m.\u001b[0m\u001b[0mIMREAD_COLOR\u001b[0m\u001b[0;34m)\u001b[0m\u001b[0;34m\u001b[0m\u001b[0;34m\u001b[0m\u001b[0m\n\u001b[1;32m      5\u001b[0m \u001b[0;34m\u001b[0m\u001b[0m\n\u001b[0;32m----> 6\u001b[0;31m \u001b[0mheight\u001b[0m\u001b[0;34m,\u001b[0m\u001b[0mwidth\u001b[0m\u001b[0;34m=\u001b[0m\u001b[0mimg\u001b[0m\u001b[0;34m.\u001b[0m\u001b[0mshape\u001b[0m\u001b[0;34m[\u001b[0m\u001b[0;34m:\u001b[0m\u001b[0;36m2\u001b[0m\u001b[0;34m]\u001b[0m\u001b[0;34m\u001b[0m\u001b[0;34m\u001b[0m\u001b[0m\n\u001b[0m\u001b[1;32m      7\u001b[0m \u001b[0;34m\u001b[0m\u001b[0m\n\u001b[1;32m      8\u001b[0m \u001b[0mM\u001b[0m\u001b[0;34m=\u001b[0m\u001b[0mnp\u001b[0m\u001b[0;34m.\u001b[0m\u001b[0marray\u001b[0m\u001b[0;34m(\u001b[0m\u001b[0;34m[\u001b[0m\u001b[0;34m[\u001b[0m\u001b[0;36m1\u001b[0m\u001b[0;34m,\u001b[0m\u001b[0;36m0\u001b[0m\u001b[0;34m,\u001b[0m\u001b[0;36m100\u001b[0m\u001b[0;34m]\u001b[0m\u001b[0;34m,\u001b[0m\u001b[0;34m[\u001b[0m\u001b[0;36m0\u001b[0m\u001b[0;34m,\u001b[0m\u001b[0;36m1\u001b[0m\u001b[0;34m,\u001b[0m\u001b[0;36m200\u001b[0m\u001b[0;34m]\u001b[0m\u001b[0;34m]\u001b[0m\u001b[0;34m,\u001b[0m \u001b[0mdtype\u001b[0m\u001b[0;34m=\u001b[0m\u001b[0mfloat\u001b[0m\u001b[0;34m)\u001b[0m\u001b[0;34m\u001b[0m\u001b[0;34m\u001b[0m\u001b[0m\n",
            "\u001b[0;31mAttributeError\u001b[0m: 'NoneType' object has no attribute 'shape'"
          ]
        }
      ]
    },
    {
      "cell_type": "markdown",
      "source": [
        "회전(rotation)-실습"
      ],
      "metadata": {
        "id": "p48YZzOLjgyF"
      }
    },
    {
      "cell_type": "code",
      "source": [
        "import cv2\n",
        "import numpy as np\n",
        "\n",
        "img=cv2.imread(r\"C:\\Users\\USER\\Desktop\\sample.jpg\",cv2.IMREAD_COLOR)\n",
        "\n",
        "height,width=img.shape[:2]\n",
        "\n",
        "angle=45\n",
        "radian=anlge*np.pi/180\n",
        "c=np.cos(radian)\n",
        "s=np.sin(radian)\n",
        "\n",
        "rotation_matrix=np.array([[c,s,0],[-s,c,0],[0,0,1]],dtype=float)\n",
        "dst=np.zeros(img.shape,dtype=np.unit8)\n",
        "for y in range(height-1):\n",
        "  for x in range(width-1):\n",
        "    new_p=np.array([x,y,1])\n",
        "    inv_rotation_matrix=np.linalg.inv(rotation_matrix)\n",
        "    old_p=np.dot(inv_rotation_matrix,new_p)\n",
        "\n",
        "    x_,y_=old_p[:2]\n",
        "    x_=int(x_)\n",
        "    y_=int(y_)\n",
        "\n",
        "    if x_>0 and x_<width and y_>0 and y_<height:\n",
        "      dst[y,x]=img[y_,x_]\n",
        "result=cv2.hconcat([img,dst])\n",
        "cv2.imshow(\"result\", result)\n",
        "cv2.waitkey(0)"
      ],
      "metadata": {
        "colab": {
          "base_uri": "https://localhost:8080/",
          "height": 219
        },
        "id": "lubOkPWnjjkV",
        "outputId": "dfbbb70f-1434-4112-ade6-213984c7649a"
      },
      "execution_count": 12,
      "outputs": [
        {
          "output_type": "error",
          "ename": "AttributeError",
          "evalue": "'NoneType' object has no attribute 'shape'",
          "traceback": [
            "\u001b[0;31m---------------------------------------------------------------------------\u001b[0m",
            "\u001b[0;31mAttributeError\u001b[0m                            Traceback (most recent call last)",
            "\u001b[0;32m<ipython-input-12-321c54eb288f>\u001b[0m in \u001b[0;36m<cell line: 6>\u001b[0;34m()\u001b[0m\n\u001b[1;32m      4\u001b[0m \u001b[0mimg\u001b[0m\u001b[0;34m=\u001b[0m\u001b[0mcv2\u001b[0m\u001b[0;34m.\u001b[0m\u001b[0mimread\u001b[0m\u001b[0;34m(\u001b[0m\u001b[0;34mr\"C:\\Users\\USER\\Desktop\\sample.jpg\"\u001b[0m\u001b[0;34m,\u001b[0m\u001b[0mcv2\u001b[0m\u001b[0;34m.\u001b[0m\u001b[0mIMREAD_COLOR\u001b[0m\u001b[0;34m)\u001b[0m\u001b[0;34m\u001b[0m\u001b[0;34m\u001b[0m\u001b[0m\n\u001b[1;32m      5\u001b[0m \u001b[0;34m\u001b[0m\u001b[0m\n\u001b[0;32m----> 6\u001b[0;31m \u001b[0mheight\u001b[0m\u001b[0;34m,\u001b[0m\u001b[0mwidth\u001b[0m\u001b[0;34m=\u001b[0m\u001b[0mimg\u001b[0m\u001b[0;34m.\u001b[0m\u001b[0mshape\u001b[0m\u001b[0;34m[\u001b[0m\u001b[0;34m:\u001b[0m\u001b[0;36m2\u001b[0m\u001b[0;34m]\u001b[0m\u001b[0;34m\u001b[0m\u001b[0;34m\u001b[0m\u001b[0m\n\u001b[0m\u001b[1;32m      7\u001b[0m \u001b[0;34m\u001b[0m\u001b[0m\n\u001b[1;32m      8\u001b[0m \u001b[0mangle\u001b[0m\u001b[0;34m=\u001b[0m\u001b[0;36m45\u001b[0m\u001b[0;34m\u001b[0m\u001b[0;34m\u001b[0m\u001b[0m\n",
            "\u001b[0;31mAttributeError\u001b[0m: 'NoneType' object has no attribute 'shape'"
          ]
        }
      ]
    },
    {
      "cell_type": "markdown",
      "source": [
        "회전(rotation)-실습(2)"
      ],
      "metadata": {
        "id": "2J8htwWLlY3s"
      }
    },
    {
      "cell_type": "code",
      "source": [
        "import cv2\n",
        "import numpy as np\n",
        "\n",
        "img=cv2.imread(r\"C:\\Users\\USER\\Desktop\\sample.jpg\",cv2.IMREAD_COLOR)\n",
        "height,width=img.shape[:2]\n",
        "\n",
        "angle=45\n",
        "radian=anlge*np.pi/180\n",
        "c=np.cos(radian)\n",
        "s=np.sin(radian)\n",
        "\n",
        "center_x=width/2\n",
        "center_y=height/2\n",
        "\n",
        "rotation_matrix=np.array([[c,s,(1-c)*center_x-s*center_y], [-s,c,s*center_x+(1-c)*center_y], [0,0,1]])\n",
        "dst=np.zeros(img.shape,dtype=np.unit8)\n",
        "for y in range(height-1):\n",
        "  for x in range(width-1):\n",
        "    new_p=np.array([x,y,1])\n",
        "    inv_ratation_matrix=np.linalg.inv(rotation_matrix)\n",
        "    old_p=np.dot(inv_rotation_matrix, new_p)\n",
        "    x_,y_=old_p[:2]\n",
        "    x_=int(x_)\n",
        "    y_=int(y_)\n",
        "    if x_>0 and x_<width and y_>0 and y_<height:\n",
        "      dst[y,x]=img[y_,x_]\n",
        "\n",
        "\n",
        "result=cv2.hconcat([img,dst])\n",
        "cv2.imshow(\"result\",result)\n",
        "cv2.waitKey(0)"
      ],
      "metadata": {
        "id": "zcXrcd3ulbVJ"
      },
      "execution_count": null,
      "outputs": []
    },
    {
      "cell_type": "code",
      "source": [
        "import cv2\n",
        "import numpy as np\n",
        "\n",
        "img=cv2.imread(r\"C:\\Users\\USER\\Desktop\\sample.jpg\",cv2.IMREAD_COLOR)\n",
        "height,width=img.shape[:2]\n",
        "\n",
        "angle=45\n",
        "center=(width/2, height/2)\n",
        "\n",
        "rotation_matrix=cv2.getRotationMatrix2D(center,angle,1)\n",
        "\n",
        "dst=cv2.warpAffine(img,rotation_matrix,(width,height))\n",
        "result=cv2.hconcat([img,dst])\n",
        "cv2.imshow(\"result12\",result)\n",
        "cv2.waitKey(0)\n",
        "\n"
      ],
      "metadata": {
        "id": "gskxCATBpAFV"
      },
      "execution_count": null,
      "outputs": []
    },
    {
      "cell_type": "markdown",
      "source": [
        "확대/축소-축소 실습"
      ],
      "metadata": {
        "id": "7Oj40fPKrNMv"
      }
    },
    {
      "cell_type": "code",
      "source": [
        "import cv2\n",
        "import numpy as np\n",
        "img=cv2.imread(r\"C:\\Users\\USER\\Desktop\\sample.jpg\",cv2.IMREAD_COLOR)\n",
        "height,width=img.shape[:2]\n",
        "scale_factor=0.5\n",
        "scaling_matrix=np.array([[scale_factor,0,0],[0,scale_factor,0],[0,0,1]])\n",
        "dst=np.zeros((height,width,img.shape[2]), dtype=np.unnit8)\n",
        "for y in range(height):\n",
        "  for x in range(width):\n",
        "    new_p=np.array([x,y,1])\n",
        "    inv_scaling_matrix=np.linalg.inv(scaling_matrix)\n",
        "    old_p=np.dot(inv_scaling_matrix,new_p)\n",
        "    x_,y_=old_p[:2]\n",
        "    x_=int(x_)\n",
        "    y_=int(y_)\n",
        "    if x_>0 and x_<width and y_>0 and y_<height:\n",
        "      dst.itemset((y,x,0),img.item(y_,x_,0))\n",
        "      dst.itemset((y,x,1),img.item(y_,x_,1))\n",
        "      dst.itemset((y,x,2),img.item(y_,x_,2))\n",
        "\n",
        "result=cv2.hconcat([img,dst])\n",
        "cv2.imshow(\"result\",dst)\n",
        "cv2.waitKey(0)"
      ],
      "metadata": {
        "id": "1DPBKvOirQ9J"
      },
      "execution_count": null,
      "outputs": []
    },
    {
      "cell_type": "markdown",
      "source": [
        "확대/축소-확대 실습(1)"
      ],
      "metadata": {
        "id": "hX9LykVEsnim"
      }
    },
    {
      "cell_type": "code",
      "source": [
        "import cv2\n",
        "import numpy as np\n",
        "\n",
        "img=cv2.imread(r\"C:\\Users\\USER\\Desktop\\sample.jpg\",cv2.IMREAD_COLOR)\n",
        "height,width=img.shape[:2]\n",
        "\n",
        "dst=cv2.resize(img,(int(width*1.5),int(height*1.5)))\n",
        "\n",
        "cv2.imshow(\"result\",dst)\n",
        "cv2.waitKey(0)"
      ],
      "metadata": {
        "id": "ohWDao7KsqJF"
      },
      "execution_count": null,
      "outputs": []
    },
    {
      "cell_type": "markdown",
      "source": [
        "결합된 변환\n"
      ],
      "metadata": {
        "id": "5SW8Zu2gtGi2"
      }
    },
    {
      "cell_type": "code",
      "source": [
        "import cv2\n",
        "import numpy as np\n",
        "img=cv2.imread(r\"C:\\Users\\USER\\Desktop\\sample.jpg\",cv2.IMREAD_COLOR)\n",
        "height,width=img.shape[:2]\n",
        "scale_factor=0.5\n",
        "scaling_matrix=np.array([[scale_factor,0,0],[0,scale_factor,0],[0,0,1]])\n",
        "translation_matrix=np.array([1,0,width/4],[0,1,height/4],[0,0,1])\n",
        "\n",
        "angle=45\n",
        "radian=anlge*np.pi/180\n",
        "c=np.cos(radian)\n",
        "s=np.sin(radian)\n",
        "center_x=width/2\n",
        "center_y=height/2\n",
        "rotation_matrix=np.array([[c,s,(1-c)*center_x-s*center_y], [-s,c,s*center_x+(1-c)*center_y], [0,0,1]])\n",
        "\n",
        "\n",
        "T=np.eye(3)\n",
        "T=np.dot(scaling_matrix,T)\n",
        "T=np.dot(translation_matrix,T)\n",
        "T=np.dot(rotation_matrix,T)\n",
        "dst=np.zeros((height,width, img.shape[2]), dtype=np.unit8)\n",
        "\n",
        "for y in range(height):\n",
        "  for x in range(width):\n",
        "    new_p=np.array([x,y,1])\n",
        "    inv_scaling_matrix=np.linalg.inv(T)\n",
        "    old_p=np.dot(inv_scaling_matrix,new_p)\n",
        "    x_,y_=old_p[:2]\n",
        "    x_=int(x_)\n",
        "    y_=int(y_)\n",
        "    if x_>0 and x_<width and y_>0 and y_<height:\n",
        "      dst.itemset((y,x,0),img.item(y_,x_,0))\n",
        "      dst.itemset((y,x,1),img.item(y_,x_,1))\n",
        "      dst.itemset((y,x,2),img.item(y_,x_,2))\n",
        "\n",
        "cv2.imshow(\"result\",dst)\n",
        "cv2.waitKey(0)"
      ],
      "metadata": {
        "id": "aW8ST_XZtG0n"
      },
      "execution_count": null,
      "outputs": []
    }
  ]
}